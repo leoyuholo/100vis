{
 "cells": [
  {
   "cell_type": "markdown",
   "metadata": {},
   "source": [
    "# Color Names\n",
    "\n",
    "Dataset from: https://en.wikipedia.org/wiki/List_of_colors_(compact)"
   ]
  },
  {
   "cell_type": "markdown",
   "metadata": {},
   "source": [
    "## Parse data"
   ]
  },
  {
   "cell_type": "code",
   "execution_count": 1,
   "metadata": {},
   "outputs": [],
   "source": [
    "import pandas as pd\n",
    "import re\n",
    "from pathlib import Path"
   ]
  },
  {
   "cell_type": "code",
   "execution_count": 2,
   "metadata": {},
   "outputs": [],
   "source": [
    "raw_text_lines = Path('./wiki_list_of_colors_compact.txt').open('r', encoding='utf-8').read().splitlines()"
   ]
  },
  {
   "cell_type": "code",
   "execution_count": 3,
   "metadata": {},
   "outputs": [],
   "source": [
    "re_link = re.compile(r\"\\[\\[.+]\\]\")\n",
    "re_parenthesis = re.compile(r\"(\\(.+\\)\\s*)+\")\n",
    "re_gray = re.compile(r\"\\bgrey\\b\")"
   ]
  },
  {
   "cell_type": "code",
   "execution_count": 4,
   "metadata": {},
   "outputs": [],
   "source": [
    "def parse_row (text):\n",
    "    record = dict()\n",
    "    re_result = re_link.search(text)\n",
    "    if re_result:\n",
    "        match_text = re_result.group()\n",
    "        t = match_text.strip('[]')\n",
    "        if '|' not in t:\n",
    "            label = t\n",
    "        else:\n",
    "            link, label = t.split('|')\n",
    "            record['link'] = link\n",
    "        text = text.replace(match_text, label)\n",
    "\n",
    "    attrs = [t.strip() for t in text.strip('{}').split('|')]\n",
    "    for attr in attrs:\n",
    "        if '=' in attr:\n",
    "            key, value = attr.split('=')\n",
    "            value = re_gray.sub('gray', value)\n",
    "            if key == 'name':\n",
    "                re_result = re_parenthesis.search(value)\n",
    "                if re_result:\n",
    "                    match_text = re_result.group()\n",
    "                    value = value.replace(match_text, '').strip()\n",
    "                    record['tag'] = match_text\n",
    "            record[key.lower().strip()] = value.lower().strip()\n",
    "\n",
    "    return record"
   ]
  },
  {
   "cell_type": "code",
   "execution_count": 5,
   "metadata": {},
   "outputs": [
    {
     "data": {
      "text/html": [
       "<div>\n",
       "<style scoped>\n",
       "    .dataframe tbody tr th:only-of-type {\n",
       "        vertical-align: middle;\n",
       "    }\n",
       "\n",
       "    .dataframe tbody tr th {\n",
       "        vertical-align: top;\n",
       "    }\n",
       "\n",
       "    .dataframe thead th {\n",
       "        text-align: right;\n",
       "    }\n",
       "</style>\n",
       "<table border=\"1\" class=\"dataframe\">\n",
       "  <thead>\n",
       "    <tr style=\"text-align: right;\">\n",
       "      <th></th>\n",
       "      <th>name</th>\n",
       "      <th>hex</th>\n",
       "      <th>r</th>\n",
       "      <th>g</th>\n",
       "      <th>b</th>\n",
       "      <th>h</th>\n",
       "      <th>s</th>\n",
       "      <th>v</th>\n",
       "    </tr>\n",
       "  </thead>\n",
       "  <tbody>\n",
       "    <tr>\n",
       "      <th>count</th>\n",
       "      <td>1370</td>\n",
       "      <td>1370</td>\n",
       "      <td>1370</td>\n",
       "      <td>1370</td>\n",
       "      <td>1370</td>\n",
       "      <td>1370</td>\n",
       "      <td>1370</td>\n",
       "      <td>1370</td>\n",
       "    </tr>\n",
       "    <tr>\n",
       "      <th>unique</th>\n",
       "      <td>1370</td>\n",
       "      <td>1249</td>\n",
       "      <td>242</td>\n",
       "      <td>249</td>\n",
       "      <td>250</td>\n",
       "      <td>312</td>\n",
       "      <td>105</td>\n",
       "      <td>97</td>\n",
       "    </tr>\n",
       "    <tr>\n",
       "      <th>top</th>\n",
       "      <td>antique white</td>\n",
       "      <td>967117</td>\n",
       "      <td>255</td>\n",
       "      <td>0</td>\n",
       "      <td>0</td>\n",
       "      <td>0</td>\n",
       "      <td>100</td>\n",
       "      <td>100</td>\n",
       "    </tr>\n",
       "    <tr>\n",
       "      <th>freq</th>\n",
       "      <td>1</td>\n",
       "      <td>5</td>\n",
       "      <td>156</td>\n",
       "      <td>69</td>\n",
       "      <td>99</td>\n",
       "      <td>59</td>\n",
       "      <td>243</td>\n",
       "      <td>235</td>\n",
       "    </tr>\n",
       "  </tbody>\n",
       "</table>\n",
       "</div>"
      ],
      "text/plain": [
       "                 name     hex     r     g     b     h     s     v\n",
       "count            1370    1370  1370  1370  1370  1370  1370  1370\n",
       "unique           1370    1249   242   249   250   312   105    97\n",
       "top     antique white  967117   255     0     0     0   100   100\n",
       "freq                1       5   156    69    99    59   243   235"
      ]
     },
     "execution_count": 5,
     "metadata": {},
     "output_type": "execute_result"
    }
   ],
   "source": [
    "table = [parse_row(l) for l in raw_text_lines]\n",
    "df_color = pd.DataFrame.from_records(table, columns=['name','hex','r','g','b','h','s','v'])\n",
    "df_color.drop_duplicates('name', inplace=True)\n",
    "df_color.describe()"
   ]
  },
  {
   "cell_type": "code",
   "execution_count": 6,
   "metadata": {},
   "outputs": [
    {
     "data": {
      "text/html": [
       "<div>\n",
       "<style scoped>\n",
       "    .dataframe tbody tr th:only-of-type {\n",
       "        vertical-align: middle;\n",
       "    }\n",
       "\n",
       "    .dataframe tbody tr th {\n",
       "        vertical-align: top;\n",
       "    }\n",
       "\n",
       "    .dataframe thead th {\n",
       "        text-align: right;\n",
       "    }\n",
       "</style>\n",
       "<table border=\"1\" class=\"dataframe\">\n",
       "  <thead>\n",
       "    <tr style=\"text-align: right;\">\n",
       "      <th></th>\n",
       "      <th>name</th>\n",
       "      <th>hex</th>\n",
       "      <th>r</th>\n",
       "      <th>g</th>\n",
       "      <th>b</th>\n",
       "      <th>h</th>\n",
       "      <th>s</th>\n",
       "      <th>v</th>\n",
       "    </tr>\n",
       "  </thead>\n",
       "  <tbody>\n",
       "    <tr>\n",
       "      <th>0</th>\n",
       "      <td>absolute zero</td>\n",
       "      <td>0048ba</td>\n",
       "      <td>0</td>\n",
       "      <td>72</td>\n",
       "      <td>186</td>\n",
       "      <td>217</td>\n",
       "      <td>100</td>\n",
       "      <td>73</td>\n",
       "    </tr>\n",
       "    <tr>\n",
       "      <th>1</th>\n",
       "      <td>acid green</td>\n",
       "      <td>b0bf1a</td>\n",
       "      <td>176</td>\n",
       "      <td>191</td>\n",
       "      <td>26</td>\n",
       "      <td>65</td>\n",
       "      <td>86</td>\n",
       "      <td>75</td>\n",
       "    </tr>\n",
       "    <tr>\n",
       "      <th>2</th>\n",
       "      <td>aero</td>\n",
       "      <td>7cb9e8</td>\n",
       "      <td>124</td>\n",
       "      <td>185</td>\n",
       "      <td>232</td>\n",
       "      <td>206</td>\n",
       "      <td>47</td>\n",
       "      <td>91</td>\n",
       "    </tr>\n",
       "    <tr>\n",
       "      <th>3</th>\n",
       "      <td>aero blue</td>\n",
       "      <td>c9ffe5</td>\n",
       "      <td>201</td>\n",
       "      <td>255</td>\n",
       "      <td>229</td>\n",
       "      <td>151</td>\n",
       "      <td>21</td>\n",
       "      <td>100</td>\n",
       "    </tr>\n",
       "    <tr>\n",
       "      <th>4</th>\n",
       "      <td>african violet</td>\n",
       "      <td>b284be</td>\n",
       "      <td>178</td>\n",
       "      <td>132</td>\n",
       "      <td>190</td>\n",
       "      <td>288</td>\n",
       "      <td>31</td>\n",
       "      <td>75</td>\n",
       "    </tr>\n",
       "  </tbody>\n",
       "</table>\n",
       "</div>"
      ],
      "text/plain": [
       "             name     hex    r    g    b    h    s    v\n",
       "0   absolute zero  0048ba    0   72  186  217  100   73\n",
       "1      acid green  b0bf1a  176  191   26   65   86   75\n",
       "2            aero  7cb9e8  124  185  232  206   47   91\n",
       "3       aero blue  c9ffe5  201  255  229  151   21  100\n",
       "4  african violet  b284be  178  132  190  288   31   75"
      ]
     },
     "execution_count": 6,
     "metadata": {},
     "output_type": "execute_result"
    }
   ],
   "source": [
    "df_color.head()"
   ]
  },
  {
   "cell_type": "code",
   "execution_count": 7,
   "metadata": {},
   "outputs": [],
   "source": [
    "df_color.to_csv('./color_names.csv', index=False)"
   ]
  },
  {
   "cell_type": "markdown",
   "metadata": {},
   "source": [
    "## Find out main colors"
   ]
  },
  {
   "cell_type": "code",
   "execution_count": 8,
   "metadata": {},
   "outputs": [],
   "source": [
    "se_tokens = df_color['name'].str.split(' ')"
   ]
  },
  {
   "cell_type": "code",
   "execution_count": 9,
   "metadata": {
    "scrolled": true
   },
   "outputs": [
    {
     "data": {
      "text/plain": [
       "0     [absolute, zero]\n",
       "1        [acid, green]\n",
       "2               [aero]\n",
       "3         [aero, blue]\n",
       "4    [african, violet]\n",
       "Name: name, dtype: object"
      ]
     },
     "execution_count": 9,
     "metadata": {},
     "output_type": "execute_result"
    }
   ],
   "source": [
    "se_tokens.head()"
   ]
  },
  {
   "cell_type": "code",
   "execution_count": 10,
   "metadata": {},
   "outputs": [],
   "source": [
    "se_lead_color = pd.Series([r[-1] for r in se_tokens])"
   ]
  },
  {
   "cell_type": "code",
   "execution_count": 11,
   "metadata": {},
   "outputs": [],
   "source": [
    "se_main_color = se_lead_color.value_counts().head((se_lead_color.value_counts() > 5).sum())"
   ]
  },
  {
   "cell_type": "code",
   "execution_count": 12,
   "metadata": {},
   "outputs": [
    {
     "data": {
      "text/plain": [
       "blue         131\n",
       "green        111\n",
       "pink          75\n",
       "red           67\n",
       "yellow        49\n",
       "orange        36\n",
       "purple        35\n",
       "brown         33\n",
       "gray          25\n",
       "violet        21\n",
       "rose          21\n",
       "gold          14\n",
       "lavender      13\n",
       "silver        12\n",
       "magenta       11\n",
       "taupe         10\n",
       "white         10\n",
       "crimson        9\n",
       "carmine        8\n",
       "lime           8\n",
       "black          8\n",
       "orchid         7\n",
       "fuchsia        7\n",
       "cyan           7\n",
       "bronze         7\n",
       "turquoise      6\n",
       "raspberry      6\n",
       "indigo         6\n",
       "azure          6\n",
       "maroon         6\n",
       "plum           6\n",
       "dtype: int64"
      ]
     },
     "execution_count": 12,
     "metadata": {},
     "output_type": "execute_result"
    }
   ],
   "source": [
    "se_main_color"
   ]
  },
  {
   "cell_type": "code",
   "execution_count": null,
   "metadata": {},
   "outputs": [],
   "source": []
  }
 ],
 "metadata": {
  "kernelspec": {
   "display_name": "Python 3",
   "language": "python",
   "name": "python3"
  },
  "language_info": {
   "codemirror_mode": {
    "name": "ipython",
    "version": 3
   },
   "file_extension": ".py",
   "mimetype": "text/x-python",
   "name": "python",
   "nbconvert_exporter": "python",
   "pygments_lexer": "ipython3",
   "version": "3.8.5"
  }
 },
 "nbformat": 4,
 "nbformat_minor": 4
}
