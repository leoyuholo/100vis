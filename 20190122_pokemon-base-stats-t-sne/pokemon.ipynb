{
 "cells": [
  {
   "cell_type": "code",
   "execution_count": 1,
   "metadata": {},
   "outputs": [],
   "source": [
    "import pandas as pd\n",
    "from sklearn.manifold import TSNE, MDS\n",
    "import altair as alt"
   ]
  },
  {
   "cell_type": "code",
   "execution_count": 2,
   "metadata": {},
   "outputs": [],
   "source": [
    "df_pokemon = pd.read_csv('pokemon.csv')"
   ]
  },
  {
   "cell_type": "markdown",
   "metadata": {},
   "source": [
    "# Fix data"
   ]
  },
  {
   "cell_type": "markdown",
   "metadata": {},
   "source": [
    "## Non-numeric capture_rate"
   ]
  },
  {
   "cell_type": "code",
   "execution_count": 3,
   "metadata": {},
   "outputs": [
    {
     "data": {
      "text/plain": [
       "773    30 (Meteorite)255 (Core)\n",
       "Name: capture_rate, dtype: object"
      ]
     },
     "execution_count": 3,
     "metadata": {},
     "output_type": "execute_result"
    }
   ],
   "source": [
    "df_pokemon.loc[df_pokemon['name'] == 'Minior', 'capture_rate']"
   ]
  },
  {
   "cell_type": "code",
   "execution_count": 4,
   "metadata": {},
   "outputs": [],
   "source": [
    "df_pokemon.loc[df_pokemon['name'] == 'Minior', 'capture_rate'] = 30"
   ]
  },
  {
   "cell_type": "markdown",
   "metadata": {},
   "source": [
    "## Typo"
   ]
  },
  {
   "cell_type": "code",
   "execution_count": 5,
   "metadata": {},
   "outputs": [],
   "source": [
    "df_pokemon = df_pokemon.rename(columns={'classfication': 'classification'})"
   ]
  },
  {
   "cell_type": "markdown",
   "metadata": {},
   "source": [
    "# Use base stats for t-sne"
   ]
  },
  {
   "cell_type": "code",
   "execution_count": 6,
   "metadata": {},
   "outputs": [],
   "source": [
    "X = df_pokemon[['attack', 'defense', 'sp_attack', 'sp_defense', 'speed', 'hp']].values"
   ]
  },
  {
   "cell_type": "code",
   "execution_count": 7,
   "metadata": {},
   "outputs": [],
   "source": [
    "X = (X - X.mean())/ X.std()"
   ]
  },
  {
   "cell_type": "code",
   "execution_count": 8,
   "metadata": {},
   "outputs": [],
   "source": [
    "# X_embedded = MDS(n_components=2).fit_transform(X)\n",
    "X_embedded = TSNE(n_components=2, random_state=801).fit_transform(X)"
   ]
  },
  {
   "cell_type": "code",
   "execution_count": 9,
   "metadata": {},
   "outputs": [
    {
     "data": {
      "text/plain": [
       "array([[  1.7333766, -23.538902 ],\n",
       "       [  7.7839303,  -8.066467 ],\n",
       "       [ 15.713701 ,  29.887104 ],\n",
       "       ...,\n",
       "       [ 33.595757 ,  10.708869 ],\n",
       "       [ 12.350531 ,  27.207962 ],\n",
       "       [ 16.80037  ,  29.456789 ]], dtype=float32)"
      ]
     },
     "execution_count": 9,
     "metadata": {},
     "output_type": "execute_result"
    }
   ],
   "source": [
    "X_embedded"
   ]
  },
  {
   "cell_type": "code",
   "execution_count": 10,
   "metadata": {},
   "outputs": [],
   "source": [
    "df_pokemon['x'] = X_embedded[:, 0]\n",
    "df_pokemon['y'] = X_embedded[:, 1]"
   ]
  },
  {
   "cell_type": "markdown",
   "metadata": {},
   "source": [
    "# Plot t-sne result against base stats"
   ]
  },
  {
   "cell_type": "code",
   "execution_count": null,
   "metadata": {},
   "outputs": [],
   "source": [
    "chart = alt.Chart(df_pokemon, title='attack').mark_point().encode(\n",
    "    x='x',\n",
    "    y='y',\n",
    "    color='attack',\n",
    "    tooltip=['attack', 'defense', 'sp_attack', 'sp_defense', 'speed', 'hp', 'is_legendary', 'base_total']\n",
    ") | alt.Chart(df_pokemon, title='defense').mark_point().encode(\n",
    "    x='x',\n",
    "    y='y',\n",
    "    color='defense',\n",
    "    tooltip=['attack', 'defense', 'sp_attack', 'sp_defense', 'speed', 'hp', 'is_legendary', 'base_total']\n",
    ")\n",
    "chart &= alt.Chart(df_pokemon, title='sp_attack').mark_point().encode(\n",
    "    x='x',\n",
    "    y='y',\n",
    "    color='sp_attack',\n",
    "    tooltip=['attack', 'defense', 'sp_attack', 'sp_defense', 'speed', 'hp', 'is_legendary', 'base_total']\n",
    ") | alt.Chart(df_pokemon, title='sp_defense').mark_point().encode(\n",
    "    x='x',\n",
    "    y='y',\n",
    "    color='sp_defense',\n",
    "    tooltip=['attack', 'defense', 'sp_attack', 'sp_defense', 'speed', 'hp', 'is_legendary', 'base_total']\n",
    ")\n",
    "chart &= alt.Chart(df_pokemon, title='hp').mark_point().encode(\n",
    "    x='x',\n",
    "    y='y',\n",
    "    color='hp',\n",
    "    tooltip=['attack', 'defense', 'sp_attack', 'sp_defense', 'speed', 'hp', 'is_legendary', 'base_total']\n",
    ") | alt.Chart(df_pokemon, title='speed').mark_point().encode(\n",
    "    x='x',\n",
    "    y='y',\n",
    "    color='speed',\n",
    "    tooltip=['attack', 'defense', 'sp_attack', 'sp_defense', 'speed', 'hp', 'is_legendary', 'base_total']\n",
    ")\n",
    "chart"
   ]
  },
  {
   "cell_type": "markdown",
   "metadata": {},
   "source": [
    "## Legendary and bast total"
   ]
  },
  {
   "cell_type": "code",
   "execution_count": null,
   "metadata": {},
   "outputs": [],
   "source": [
    "chart = alt.Chart(df_pokemon, title='is_legendary').mark_point().encode(\n",
    "    x='x',\n",
    "    y='y',\n",
    "    color='is_legendary:N',\n",
    "    tooltip=['attack', 'defense', 'sp_attack', 'sp_defense', 'speed', 'hp', 'is_legendary', 'base_total']\n",
    ") | alt.Chart(df_pokemon, title='base_total').mark_circle().encode(\n",
    "    x='x',\n",
    "    y='y',\n",
    "    color='base_total',\n",
    "    tooltip=['attack', 'defense', 'sp_attack', 'sp_defense', 'speed', 'hp', 'is_legendary', 'base_total']\n",
    ")\n",
    "chart"
   ]
  },
  {
   "cell_type": "markdown",
   "metadata": {},
   "source": [
    "## Capture rate"
   ]
  },
  {
   "cell_type": "code",
   "execution_count": null,
   "metadata": {},
   "outputs": [],
   "source": [
    "chart = alt.Chart(df_pokemon, title='capture_rate').mark_point().encode(\n",
    "    x='x',\n",
    "    y='y',\n",
    "    color='capture_rate',\n",
    "    tooltip=['attack', 'defense', 'sp_attack', 'sp_defense', 'speed', 'hp', 'is_legendary', 'base_total']\n",
    ")\n",
    "chart"
   ]
  },
  {
   "cell_type": "markdown",
   "metadata": {},
   "source": [
    "## Experience growth"
   ]
  },
  {
   "cell_type": "code",
   "execution_count": null,
   "metadata": {},
   "outputs": [],
   "source": [
    "alt.Chart(df_pokemon, title='experience_growth').mark_circle().encode(\n",
    "    x='x',\n",
    "    y='y',\n",
    "    color='experience_growth',\n",
    "    tooltip=['attack', 'defense', 'sp_attack', 'sp_defense', 'speed', 'hp', 'is_legendary', 'base_total']\n",
    ")"
   ]
  },
  {
   "cell_type": "code",
   "execution_count": null,
   "metadata": {},
   "outputs": [],
   "source": [
    "df_pokemon = df_pokemon.rename(columns={'classfication': 'classification'})\n",
    "attrs = [\n",
    "    'pokedex_number',\n",
    "    'name',\n",
    "    'japanese_name',\n",
    "    'base_total',\n",
    "    'attack',\n",
    "    'defense',\n",
    "    'sp_attack',\n",
    "    'sp_defense',\n",
    "    'speed',\n",
    "    'hp',\n",
    "    'capture_rate',\n",
    "    'experience_growth',\n",
    "    'type1',\n",
    "    'type2',\n",
    "    'classification',\n",
    "    'generation',\n",
    "    'is_legendary',\n",
    "    'x',\n",
    "    'y'\n",
    "]\n",
    "df_pokemon[attrs].to_csv('pokemon_tsne.csv', index=False)"
   ]
  },
  {
   "cell_type": "code",
   "execution_count": null,
   "metadata": {},
   "outputs": [],
   "source": []
  }
 ],
 "metadata": {
  "kernelspec": {
   "display_name": "Python 3",
   "language": "python",
   "name": "python3"
  },
  "language_info": {
   "codemirror_mode": {
    "name": "ipython",
    "version": 3
   },
   "file_extension": ".py",
   "mimetype": "text/x-python",
   "name": "python",
   "nbconvert_exporter": "python",
   "pygments_lexer": "ipython3",
   "version": "3.8.5"
  }
 },
 "nbformat": 4,
 "nbformat_minor": 4
}
